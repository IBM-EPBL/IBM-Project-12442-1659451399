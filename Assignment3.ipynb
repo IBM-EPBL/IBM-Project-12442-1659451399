{
  "nbformat": 4,
  "nbformat_minor": 0,
  "metadata": {
    "colab": {
      "provenance": [],
      "collapsed_sections": []
    },
    "kernelspec": {
      "name": "python3",
      "display_name": "Python 3"
    },
    "language_info": {
      "name": "python"
    }
  },
  "cells": [
    {
      "cell_type": "markdown",
      "source": [
        "1.Importing Packages"
      ],
      "metadata": {
        "id": "zYnaCIa163Sp"
      }
    },
    {
      "cell_type": "code",
      "execution_count": 3,
      "metadata": {
        "id": "UEGTMKgq0pPm"
      },
      "outputs": [],
      "source": [
        "\n",
        "from tensorflow.keras.models import Sequential\n",
        "from tensorflow.keras.layers import Convolution2D,MaxPooling2D,Flatten,Dense\n",
        "from tensorflow.keras.preprocessing.image import ImageDataGenerator as idm\n",
        "import numpy as np\n",
        "import warnings\n",
        "#Supressing warnings\n",
        "warnings.filterwarnings('ignore')"
      ]
    },
    {
      "cell_type": "markdown",
      "source": [
        "2.Image Augmentation"
      ],
      "metadata": {
        "id": "-eUg8ytE6j2h"
      }
    },
    {
      "cell_type": "code",
      "source": [
        "\n",
        "\n",
        "# Creating augmentation on training variable\n",
        "train_flowers=idm(rescale=1./255,zoom_range=0.2,horizontal_flip=True)\n",
        "\n",
        "# Passing training data to train variable\n",
        "Xtrain = train_flowers.flow_from_directory('/content/drive/MyDrive/IBM/Flowers-Dataset',target_size=(76,76),class_mode='categorical',batch_size=100)\n",
        "Found 4141 images belonging to 5 classes.\n",
        "# Creating augmentation on testing variable\n",
        "test_flowers=idm(rescale=1./255)\n",
        "\n",
        "# Passing testing data to test variable\n",
        "Xtest = test_flowers.flow_from_directory('/content/drive/MyDrive/IBM/Flower_Training',target_size=(76,76),class_mode='categorical',batch_size=100)\n",
        "Found 204 images belonging to 5 classes."
      ],
      "metadata": {
        "id": "bP-ThdVS096X"
      },
      "execution_count": null,
      "outputs": []
    },
    {
      "cell_type": "markdown",
      "source": [
        "3.Create Model"
      ],
      "metadata": {
        "id": "BEpZ5MuH68-j"
      }
    },
    {
      "cell_type": "code",
      "source": [
        "Flower_model = Sequential()\n",
        "Flower_model.add(Convolution2D(32,(3,3),activation='relu',input_shape=(76,76,3)))\n",
        "Flower_model.add(MaxPooling2D(pool_size=(2,2)))\n",
        "Flower_model.add(Flatten())\n",
        "Flower_model.add(Dense(300,activation='relu'))\n",
        "Flower_model.add(Dense(150,activation='relu'))\n",
        "Flower_model.add(Dense(5,activation='softmax'))"
      ],
      "metadata": {
        "id": "DGedd6T57FKw"
      },
      "execution_count": null,
      "outputs": []
    },
    {
      "cell_type": "markdown",
      "source": [
        "4. Compile the Model"
      ],
      "metadata": {
        "id": "LieDQbeD7JUT"
      }
    },
    {
      "cell_type": "code",
      "source": [
        "Flower_model.compile(optimizer='adam',loss='categorical_crossentropy',metrics=['accuracy'])"
      ],
      "metadata": {
        "id": "_lMPlzPc7OI_"
      },
      "execution_count": null,
      "outputs": []
    },
    {
      "cell_type": "markdown",
      "source": [
        "5. Fit the Model"
      ],
      "metadata": {
        "id": "stC_fq-77d-z"
      }
    },
    {
      "cell_type": "code",
      "source": [
        "Flower_model.fit_generator(Xtrain,steps_per_epoch= len (Xtrain),epochs= 10,validation_data=Xtest,validation_steps= len (Xtest))\n",
        "Epoch 1/10\n",
        "42/42 [==============================] - 567s 14s/step - loss: 1.9592 - accuracy: 0.3700 - val_loss: 1.1356 - val_accuracy: 0.5490\n",
        "Epoch 2/10\n",
        "42/42 [==============================] - 26s 618ms/step - loss: 1.1221 - accuracy: 0.5412 - val_loss: 1.1446 - val_accuracy: 0.6422\n",
        "Epoch 3/10\n",
        "42/42 [==============================] - 26s 612ms/step - loss: 1.0173 - accuracy: 0.6042 - val_loss: 1.1835 - val_accuracy: 0.6225\n",
        "Epoch 4/10\n",
        "42/42 [==============================] - 26s 611ms/step - loss: 0.9552 - accuracy: 0.6264 - val_loss: 1.0033 - val_accuracy: 0.6765\n",
        "Epoch 5/10\n",
        "42/42 [==============================] - 26s 620ms/step - loss: 0.8832 - accuracy: 0.6619 - val_loss: 0.9993 - val_accuracy: 0.7059\n",
        "Epoch 6/10\n",
        "42/42 [==============================] - 26s 621ms/step - loss: 0.8373 - accuracy: 0.6783 - val_loss: 0.9690 - val_accuracy: 0.7206\n",
        "Epoch 7/10\n",
        "42/42 [==============================] - 26s 615ms/step - loss: 0.8125 - accuracy: 0.6923 - val_loss: 0.8731 - val_accuracy: 0.7059\n",
        "Epoch 8/10\n",
        "42/42 [==============================] - 26s 608ms/step - loss: 0.7663 - accuracy: 0.7073 - val_loss: 1.0149 - val_accuracy: 0.6667\n",
        "Epoch 9/10\n",
        "42/42 [==============================] - 26s 616ms/step - loss: 0.7333 - accuracy: 0.7242 - val_loss: 0.9583 - val_accuracy: 0.6863\n",
        "Epoch 10/10\n",
        "42/42 [==============================] - 26s 613ms/step - loss: 0.7128 - accuracy: 0.7262 - val_loss: 0.9150 - val_accuracy: 0.7206\n",
        "<keras.callbacks.History at 0x7fd5aec82f50>"
      ],
      "metadata": {
        "id": "K5UetMMu7kyO"
      },
      "execution_count": null,
      "outputs": []
    },
    {
      "cell_type": "markdown",
      "source": [
        "6. Save the model"
      ],
      "metadata": {
        "id": "etVQoiqY7u_e"
      }
    },
    {
      "cell_type": "code",
      "source": [
        "Flower_model.save('Flower.h5')"
      ],
      "metadata": {
        "id": "3rd4RMXW7xJu"
      },
      "execution_count": null,
      "outputs": []
    },
    {
      "cell_type": "markdown",
      "source": [
        "8. Test the model"
      ],
      "metadata": {
        "id": "4YE0D33j7z9D"
      }
    },
    {
      "cell_type": "code",
      "source": [
        "test_img=image.load_img('/content/drive/MyDrive/IBM/Flowers-Dataset/sunflower/200557977_bf24d9550b.jpg',target_size=(76,76))\n",
        "test_img\n",
        "\n",
        "x=image.img_to_array(test_img)\n",
        "x=np.expand_dims(x,axis=0)\n",
        "predicted=np.argmax(Flower_model.predict(x))\n",
        "Prediction_category=['daisy','dandelion','rose','sunflower','tulip']\n",
        "Prediction_category[predicted]\n",
        "'sunflower'\n",
        "test_img1=image.load_img('/content/drive/MyDrive/IBM/Flowers-Dataset/daisy/1140299375_3aa7024466.jpg',target_size=(76,76))\n",
        "test_img1\n",
        "\n",
        "x=image.img_to_array(test_img1)\n",
        "x=np.expand_dims(x,axis=0)\n",
        "predicted=np.argmax(Flower_model.predict(x))\n",
        "Prediction_category[predicted]\n",
        "'daisy'\n",
        "test_img2=image.load_img('/content/drive/MyDrive/IBM/Flowers-Dataset/rose/7251352826_69b62cba2c_m.jpg',target_size=(76,76))\n",
        "test_img2\n",
        "\n",
        "x=image.img_to_array(test_img2)\n",
        "x=np.expand_dims(x,axis=0)\n",
        "predicted=np.argmax(Flower_model.predict(x))\n",
        "Prediction_category[predicted]\n",
        "'rose'"
      ],
      "metadata": {
        "id": "Lk7RfoFS72mt"
      },
      "execution_count": null,
      "outputs": []
    }
  ]
}